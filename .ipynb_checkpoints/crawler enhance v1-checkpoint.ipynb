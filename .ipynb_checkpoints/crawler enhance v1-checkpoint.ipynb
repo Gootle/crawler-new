{
 "cells": [
  {
   "cell_type": "code",
   "execution_count": 17,
   "metadata": {
    "collapsed": true
   },
   "outputs": [],
   "source": [
    "###https://www.youtube.com/watch?v=kurBNu1qobM&t=71s\n",
    "\n",
    "import requests\n",
    "import json\n",
    "import csv\n",
    "import time, datetime,os"
   ]
  },
  {
   "cell_type": "code",
   "execution_count": 18,
   "metadata": {},
   "outputs": [
    {
     "data": {
      "text/plain": [
       "9"
      ]
     },
     "execution_count": 18,
     "metadata": {},
     "output_type": "execute_result"
    }
   ],
   "source": [
    "dt = datetime.datetime.now()\n",
    "dt.year\n",
    "dt.month"
   ]
  },
  {
   "cell_type": "code",
   "execution_count": 19,
   "metadata": {
    "collapsed": true
   },
   "outputs": [],
   "source": [
    "id_list = ['2303','2330','1234','3006','2412'] #input the stock IDs\n",
    "now = datetime.datetime.now()\n",
    "year_list = range (2016,now.year+1) #since 2016 to this year\n",
    "month_list = range(1,13)  # 12 months\n"
   ]
  },
  {
   "cell_type": "code",
   "execution_count": 20,
   "metadata": {
    "collapsed": true
   },
   "outputs": [],
   "source": [
    "###http://www.twse.com.tw/exchangeReport/STOCK_DAY?response=json&date=20170605&stockNo=2330\n"
   ]
  },
  {
   "cell_type": "code",
   "execution_count": 22,
   "metadata": {
    "collapsed": true
   },
   "outputs": [],
   "source": [
    "#standard web crawing process\n",
    "def get_webmsg (year, month, stock_id):\n",
    "    date = str (year) + \"{0:0=2d}\".format(month) +'01' ## format is yyyymmdd\n",
    "    sid = str(stock_id)\n",
    "    url_twse = 'http://www.twse.com.tw/exchangeReport/STOCK_DAY?response=json&date='+date+'&stockNo='+sid\n",
    "    res =requests.post(url_twse,)\n",
    "    soup = bs(res.text , 'html.parser')\n",
    "    smt = json.loads(soup.text)     #convert data into json\n",
    "    return smt"
   ]
  },
  {
   "cell_type": "code",
   "execution_count": 21,
   "metadata": {
    "collapsed": true
   },
   "outputs": [],
   "source": [
    "def write_csv(stock_id,directory,filename,smt) :\n",
    "    writefile = directory + filename               #set output file name\n",
    "    outputFile = open(writefile,'w',newline='')\n",
    "    outputWriter = csv.writer(outputFile)\n",
    "    head = ''.join(smt['title'].split())\n",
    "    a = [head,\"\"]\n",
    "    outputWriter.writerow(a)\n",
    "    outputWriter.writerow(smt['fields'])\n",
    "    for data in (smt['data']):\n",
    "        outputWriter.writerow(data)\n",
    "\n",
    "    outputFile.close()"
   ]
  },
  {
   "cell_type": "code",
   "execution_count": 23,
   "metadata": {},
   "outputs": [
    {
     "ename": "NameError",
     "evalue": "name 'bs' is not defined",
     "output_type": "error",
     "traceback": [
      "\u001b[1;31m---------------------------------------------------------------------------\u001b[0m",
      "\u001b[1;31mNameError\u001b[0m                                 Traceback (most recent call last)",
      "\u001b[1;32m<ipython-input-23-f8fff05cff90>\u001b[0m in \u001b[0;36m<module>\u001b[1;34m()\u001b[0m\n\u001b[0;32m      9\u001b[0m             \u001b[0mdirectory\u001b[0m \u001b[1;33m=\u001b[0m \u001b[1;34m'D:/stock'\u001b[0m\u001b[1;33m+\u001b[0m\u001b[1;34m'/'\u001b[0m\u001b[1;33m+\u001b[0m\u001b[0msid\u001b[0m \u001b[1;33m+\u001b[0m\u001b[1;34m'/'\u001b[0m       \u001b[1;31m#setting directory\u001b[0m\u001b[1;33m\u001b[0m\u001b[0m\n\u001b[0;32m     10\u001b[0m             \u001b[0mfilename\u001b[0m \u001b[1;33m=\u001b[0m \u001b[0mstr\u001b[0m\u001b[1;33m(\u001b[0m\u001b[0myy\u001b[0m\u001b[1;33m)\u001b[0m\u001b[1;33m+\u001b[0m\u001b[0mstr\u001b[0m\u001b[1;33m(\u001b[0m\u001b[1;34m\"%02d\"\u001b[0m\u001b[1;33m%\u001b[0m\u001b[0mmm\u001b[0m\u001b[1;33m)\u001b[0m\u001b[1;33m+\u001b[0m\u001b[1;34m'.csv'\u001b[0m          \u001b[1;31m#setting file name\u001b[0m\u001b[1;33m\u001b[0m\u001b[0m\n\u001b[1;32m---> 11\u001b[1;33m             \u001b[0msmt\u001b[0m \u001b[1;33m=\u001b[0m \u001b[0mget_webmsg\u001b[0m\u001b[1;33m(\u001b[0m\u001b[0myear\u001b[0m \u001b[1;33m,\u001b[0m\u001b[0mmonth\u001b[0m\u001b[1;33m,\u001b[0m \u001b[0mstock_id\u001b[0m\u001b[1;33m)\u001b[0m           \u001b[1;31m#put the data into smt\u001b[0m\u001b[1;33m\u001b[0m\u001b[0m\n\u001b[0m\u001b[0;32m     12\u001b[0m             \u001b[0mmakedirs\u001b[0m \u001b[1;33m(\u001b[0m\u001b[0myear\u001b[0m\u001b[1;33m,\u001b[0m \u001b[0mmonth\u001b[0m\u001b[1;33m,\u001b[0m \u001b[0mstock_id\u001b[0m\u001b[1;33m)\u001b[0m                  \u001b[1;31m#create directory function\u001b[0m\u001b[1;33m\u001b[0m\u001b[0m\n\u001b[0;32m     13\u001b[0m             \u001b[0mwrite_csv\u001b[0m \u001b[1;33m(\u001b[0m\u001b[0mstock_id\u001b[0m\u001b[1;33m,\u001b[0m\u001b[0mdirectory\u001b[0m\u001b[1;33m,\u001b[0m \u001b[0mfilename\u001b[0m\u001b[1;33m,\u001b[0m \u001b[0msmt\u001b[0m\u001b[1;33m)\u001b[0m    \u001b[1;31m# write files into CSV\u001b[0m\u001b[1;33m\u001b[0m\u001b[0m\n",
      "\u001b[1;32m<ipython-input-22-fa08e35b66b3>\u001b[0m in \u001b[0;36mget_webmsg\u001b[1;34m(year, month, stock_id)\u001b[0m\n\u001b[0;32m      5\u001b[0m     \u001b[0murl_twse\u001b[0m \u001b[1;33m=\u001b[0m \u001b[1;34m'http://www.twse.com.tw/exchangeReport/STOCK_DAY?response=json&date='\u001b[0m\u001b[1;33m+\u001b[0m\u001b[0mdate\u001b[0m\u001b[1;33m+\u001b[0m\u001b[1;34m'&stockNo='\u001b[0m\u001b[1;33m+\u001b[0m\u001b[0msid\u001b[0m\u001b[1;33m\u001b[0m\u001b[0m\n\u001b[0;32m      6\u001b[0m     \u001b[0mres\u001b[0m \u001b[1;33m=\u001b[0m\u001b[0mrequests\u001b[0m\u001b[1;33m.\u001b[0m\u001b[0mpost\u001b[0m\u001b[1;33m(\u001b[0m\u001b[0murl_twse\u001b[0m\u001b[1;33m,\u001b[0m\u001b[1;33m)\u001b[0m\u001b[1;33m\u001b[0m\u001b[0m\n\u001b[1;32m----> 7\u001b[1;33m     \u001b[0msoup\u001b[0m \u001b[1;33m=\u001b[0m \u001b[0mbs\u001b[0m\u001b[1;33m(\u001b[0m\u001b[0mres\u001b[0m\u001b[1;33m.\u001b[0m\u001b[0mtext\u001b[0m \u001b[1;33m,\u001b[0m \u001b[1;34m'html.parser'\u001b[0m\u001b[1;33m)\u001b[0m\u001b[1;33m\u001b[0m\u001b[0m\n\u001b[0m\u001b[0;32m      8\u001b[0m     \u001b[0msmt\u001b[0m \u001b[1;33m=\u001b[0m \u001b[0mjson\u001b[0m\u001b[1;33m.\u001b[0m\u001b[0mloads\u001b[0m\u001b[1;33m(\u001b[0m\u001b[0msoup\u001b[0m\u001b[1;33m.\u001b[0m\u001b[0mtext\u001b[0m\u001b[1;33m)\u001b[0m     \u001b[1;31m#convert data into json\u001b[0m\u001b[1;33m\u001b[0m\u001b[0m\n\u001b[0;32m      9\u001b[0m     \u001b[1;32mreturn\u001b[0m \u001b[0msmt\u001b[0m\u001b[1;33m\u001b[0m\u001b[0m\n",
      "\u001b[1;31mNameError\u001b[0m: name 'bs' is not defined"
     ]
    }
   ],
   "source": [
    "for stock_id in id_list:\n",
    "    for year in year_list:\n",
    "        for month in month_list:\n",
    "            if (dt.year == year and month > dt.month) :break  # break loop while month over current month\n",
    "            sid = str(stock_id)\n",
    "            yy  = str(year)\n",
    "            mm  = month\n",
    "           # directory = 'D:/stock'+'/'+sid +'/'+yy +'/'       #setting directory\n",
    "            directory = 'D:/stock'+'/'+sid +'/'       #setting directory\n",
    "            filename = str(yy)+str(\"%02d\"%mm)+'.csv'          #setting file name\n",
    "            smt = get_webmsg(year ,month, stock_id)           #put the data into smt \n",
    "            makedirs (year, month, stock_id)                  #create directory function\n",
    "            write_csv (stock_id,directory, filename, smt)    # write files into CSV\n",
    "            time.sleep(1)"
   ]
  },
  {
   "cell_type": "code",
   "execution_count": 16,
   "metadata": {
    "collapsed": true
   },
   "outputs": [],
   "source": [
    "#create a directory in the current one doesn't exist\n",
    "def makedirs (year, month, stock_id):\n",
    "    sid = str(stock_id)\n",
    "    yy      = str(year)\n",
    "    mm       = str(month)\n",
    "    directory = 'D:/stock'+'/'+sid +'/'+ yy\n",
    "    if not os.path.isdir(directory):\n",
    "        os.makedirs (directory)  # os.makedirs able to create multi folders"
   ]
  },
  {
   "cell_type": "code",
   "execution_count": null,
   "metadata": {
    "collapsed": true
   },
   "outputs": [],
   "source": []
  },
  {
   "cell_type": "code",
   "execution_count": null,
   "metadata": {
    "collapsed": true
   },
   "outputs": [],
   "source": []
  }
 ],
 "metadata": {
  "kernelspec": {
   "display_name": "Python 3",
   "language": "python",
   "name": "python3"
  },
  "language_info": {
   "codemirror_mode": {
    "name": "ipython",
    "version": 3
   },
   "file_extension": ".py",
   "mimetype": "text/x-python",
   "name": "python",
   "nbconvert_exporter": "python",
   "pygments_lexer": "ipython3",
   "version": "3.6.2"
  }
 },
 "nbformat": 4,
 "nbformat_minor": 2
}
